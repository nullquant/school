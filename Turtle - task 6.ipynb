{
 "cells": [
  {
   "cell_type": "code",
   "execution_count": 1,
   "id": "a6509848",
   "metadata": {},
   "outputs": [],
   "source": [
    "from turtle import *\n",
    "\n",
    "scale = 50\n",
    "\n",
    "speed(0)\n",
    "\n",
    "left(90)\n",
    "down()\n",
    "for i in range(4):\n",
    "    forward(5*scale)\n",
    "    right(90)\n",
    "    forward(10*scale)\n",
    "    right(90)\n",
    "\n",
    "up()\n",
    "for x in range(0,11):\n",
    "    for y in range(0,11):\n",
    "        setpos(x*scale, y*scale)\n",
    "        dot(10, \"red\")\n",
    "    \n",
    "done()"
   ]
  },
  {
   "cell_type": "code",
   "execution_count": null,
   "id": "52188085",
   "metadata": {},
   "outputs": [],
   "source": []
  },
  {
   "cell_type": "code",
   "execution_count": null,
   "id": "2199d257",
   "metadata": {},
   "outputs": [],
   "source": []
  }
 ],
 "metadata": {
  "kernelspec": {
   "display_name": "Python 3 (ipykernel)",
   "language": "python",
   "name": "python3"
  },
  "language_info": {
   "codemirror_mode": {
    "name": "ipython",
    "version": 3
   },
   "file_extension": ".py",
   "mimetype": "text/x-python",
   "name": "python",
   "nbconvert_exporter": "python",
   "pygments_lexer": "ipython3",
   "version": "3.11.5"
  }
 },
 "nbformat": 4,
 "nbformat_minor": 5
}
