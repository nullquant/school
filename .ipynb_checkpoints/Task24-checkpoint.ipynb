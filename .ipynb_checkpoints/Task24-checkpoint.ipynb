{
 "cells": [
  {
   "cell_type": "code",
   "execution_count": 3,
   "id": "df29a554",
   "metadata": {},
   "outputs": [],
   "source": [
    "f = open('24_demo.txt', 'r')\n",
    "lines = f.readlines()\n",
    "f.close()"
   ]
  },
  {
   "cell_type": "code",
   "execution_count": 6,
   "id": "fe1e2633",
   "metadata": {},
   "outputs": [],
   "source": [
    "line = lines[0]"
   ]
  },
  {
   "cell_type": "code",
   "execution_count": null,
   "id": "8527105b",
   "metadata": {},
   "outputs": [],
   "source": [
    "# Определите максимальную длину цепочки вида XYZXYZXYZ... (составленной из фрагментов XYZ, последний фрагмент может быть \n",
    "# неполным)."
   ]
  },
  {
   "cell_type": "code",
   "execution_count": 8,
   "id": "33a4d6a4",
   "metadata": {},
   "outputs": [
    {
     "data": {
      "text/plain": [
       "6"
      ]
     },
     "execution_count": 8,
     "metadata": {},
     "output_type": "execute_result"
    }
   ],
   "source": [
    "line.index('XYZ')"
   ]
  },
  {
   "cell_type": "code",
   "execution_count": 30,
   "id": "f735305d",
   "metadata": {},
   "outputs": [],
   "source": [
    "indexes = []\n",
    "i = 0\n",
    "while (True):\n",
    "    if 'XYZ' not in line[i:]:\n",
    "        break\n",
    "    i_next = line[i:].index('XYZ')\n",
    "    indexes.append(i + i_next)\n",
    "    i = i + i_next + 3  \n",
    "    \n",
    "counts = []\n",
    "for i in range(len(indexes)-1):\n",
    "    a = 0\n",
    "    k = i\n",
    "    while (True):\n",
    "        if indexes[k] + 3 != indexes[k+1]:\n",
    "            break\n",
    "        k += 1\n",
    "        if k >= len(indexes):\n",
    "            break\n",
    "        a += 1\n",
    "    counts.append(a) \n",
    "    \n",
    "res = []\n",
    "m = 0\n",
    "mi = 0\n",
    "for i in range(len(indexes)-1):\n",
    "    if counts[i] > 0:\n",
    "        res.append([indexes[i], counts[i]])\n",
    "    if counts[i] > m:\n",
    "        m = counts[i]\n",
    "        mi = i"
   ]
  },
  {
   "cell_type": "code",
   "execution_count": 52,
   "id": "007cc027",
   "metadata": {},
   "outputs": [
    {
     "data": {
      "text/plain": [
       "304459"
      ]
     },
     "execution_count": 52,
     "metadata": {},
     "output_type": "execute_result"
    }
   ],
   "source": [
    "indexes[mi]"
   ]
  },
  {
   "cell_type": "code",
   "execution_count": 53,
   "id": "70084745",
   "metadata": {},
   "outputs": [
    {
     "data": {
      "text/plain": [
       "'XYZXYZXYZXYZXZXZYXYYZYZZZYZXYZXXXXYXYZYXZXXYYXXZXY'"
      ]
     },
     "execution_count": 53,
     "metadata": {},
     "output_type": "execute_result"
    }
   ],
   "source": [
    "line[304459:304459+50]"
   ]
  },
  {
   "cell_type": "code",
   "execution_count": null,
   "id": "08268416",
   "metadata": {},
   "outputs": [],
   "source": [
    "# Ответ - 13 символов"
   ]
  },
  {
   "cell_type": "code",
   "execution_count": 61,
   "id": "130ba411",
   "metadata": {},
   "outputs": [],
   "source": [
    "# Второй способ\n",
    "\n",
    "def pattern(string):\n",
    "    if string[0] == 'X':\n",
    "        if string[1] == 'Y':\n",
    "            if string[2] == 'Z':\n",
    "                return 3\n",
    "            else:\n",
    "                return 2\n",
    "        else:\n",
    "            return 1\n",
    "    else:\n",
    "        return 0  \n",
    "    \n",
    "res = []\n",
    "for i in range(len(line)):\n",
    "    s = 0\n",
    "    j = i\n",
    "    while (True):\n",
    "        k = pattern(line[j:])\n",
    "        s += k\n",
    "        if k < 3:\n",
    "            break\n",
    "        j += 3\n",
    "    res.append(s)"
   ]
  },
  {
   "cell_type": "code",
   "execution_count": 64,
   "id": "8997dfc8",
   "metadata": {},
   "outputs": [
    {
     "name": "stdout",
     "output_type": "stream",
     "text": [
      "Ответ: 13\n"
     ]
    }
   ],
   "source": [
    "print('Ответ:', max(res))"
   ]
  },
  {
   "cell_type": "code",
   "execution_count": null,
   "id": "9409921b",
   "metadata": {},
   "outputs": [],
   "source": []
  },
  {
   "cell_type": "code",
   "execution_count": null,
   "id": "fa199132",
   "metadata": {},
   "outputs": [],
   "source": []
  },
  {
   "cell_type": "code",
   "execution_count": null,
   "id": "e8f5cadf",
   "metadata": {},
   "outputs": [],
   "source": []
  },
  {
   "cell_type": "code",
   "execution_count": null,
   "id": "fa5e52a5",
   "metadata": {},
   "outputs": [],
   "source": []
  },
  {
   "cell_type": "code",
   "execution_count": null,
   "id": "d882da03",
   "metadata": {},
   "outputs": [],
   "source": []
  },
  {
   "cell_type": "code",
   "execution_count": null,
   "id": "dd5c7f87",
   "metadata": {},
   "outputs": [],
   "source": []
  }
 ],
 "metadata": {
  "kernelspec": {
   "display_name": "Python 3 (ipykernel)",
   "language": "python",
   "name": "python3"
  },
  "language_info": {
   "codemirror_mode": {
    "name": "ipython",
    "version": 3
   },
   "file_extension": ".py",
   "mimetype": "text/x-python",
   "name": "python",
   "nbconvert_exporter": "python",
   "pygments_lexer": "ipython3",
   "version": "3.11.5"
  }
 },
 "nbformat": 4,
 "nbformat_minor": 5
}
